{
 "cells": [
  {
   "cell_type": "code",
   "execution_count": 1,
   "metadata": {},
   "outputs": [
    {
     "name": "stderr",
     "output_type": "stream",
     "text": [
      "Using TensorFlow backend.\n"
     ]
    }
   ],
   "source": [
    "import matplotlib.pyplot as plt\n",
    "from matplotlib.image import imread\n",
    "import numpy as np\n",
    "from numpy import asarray, save\n",
    "from os import listdir\n",
    "from keras.preprocessing.image import load_img\n",
    "from keras.preprocessing.image import img_to_array"
   ]
  },
  {
   "cell_type": "code",
   "execution_count": 6,
   "metadata": {},
   "outputs": [
    {
     "name": "stdout",
     "output_type": "stream",
     "text": [
      "(630, 64, 64, 3) (630,)\n"
     ]
    }
   ],
   "source": [
    "folder1 = 'Dataset/train/smiley/'\n",
    "folder2 = 'Dataset/train/frown/'\n",
    "photos, labels = list(),list()\n",
    "\n",
    "for file in listdir(folder1):\n",
    "    output=0.0\n",
    "    if (file.startswith('Smile') or file.startswith('aug_') ):\n",
    "        output =1.0\n",
    "    photo = load_img(folder1 + file, target_size=(64,64))\n",
    "    photo=img_to_array(photo)\n",
    "    \n",
    "    photos.append(photo)\n",
    "    labels.append(output)\n",
    "for file in listdir(folder2):\n",
    "    output=1.0\n",
    "    if (file.startswith('Frown') or file.startswith('aug_') ):\n",
    "        output =0.0\n",
    "    photo = load_img(folder2 + file, target_size=(64,64))\n",
    "    photo=img_to_array(photo)\n",
    "    \n",
    "    photos.append(photo)\n",
    "    labels.append(output)\n",
    "\n",
    "photos = asarray(photos)\n",
    "labels=asarray(labels)\n",
    "print(photos.shape, labels.shape)\n",
    "\n",
    "save('train_smiley_frown_photos.npy', photos)\n",
    "save('train_smiley_frown_labels.npy', labels)"
   ]
  },
  {
   "cell_type": "code",
   "execution_count": 7,
   "metadata": {},
   "outputs": [
    {
     "name": "stdout",
     "output_type": "stream",
     "text": [
      "(10, 64, 64, 3) (10,)\n"
     ]
    }
   ],
   "source": [
    "folder1 = 'Dataset/valid/smiley/'\n",
    "folder2 = 'Dataset/valid/frown/'\n",
    "photos, labels = list(),list()\n",
    "\n",
    "for file in listdir(folder1):\n",
    "    output=0.0\n",
    "    if (file.startswith('Smile') or file.startswith('aug_') ):\n",
    "        output =1.0\n",
    "    photo = load_img(folder1 + file, target_size=(64,64))\n",
    "    photo=img_to_array(photo)\n",
    "    \n",
    "    photos.append(photo)\n",
    "    labels.append(output)\n",
    "for file in listdir(folder2):\n",
    "    output=1.0\n",
    "    if (file.startswith('Frown') or file.startswith('aug_') ):\n",
    "        output =0.0\n",
    "    photo = load_img(folder2 + file, target_size=(64,64))\n",
    "    photo=img_to_array(photo)\n",
    "    \n",
    "    photos.append(photo)\n",
    "    labels.append(output)\n",
    "\n",
    "photos = asarray(photos)\n",
    "labels=asarray(labels)\n",
    "print(photos.shape, labels.shape)\n",
    "\n",
    "save('test_smiley_frown_photos.npy', photos)\n",
    "save('test_smiley_frown_labels.npy', labels)"
   ]
  },
  {
   "cell_type": "code",
   "execution_count": 1,
   "metadata": {},
   "outputs": [
    {
     "name": "stderr",
     "output_type": "stream",
     "text": [
      "Using TensorFlow backend.\n"
     ]
    }
   ],
   "source": [
    "import numpy as np\n",
    "from numpy import load\n",
    "from keras.layers import Dense, Flatten\n",
    "from keras.layers.convolutional import Conv2D\n",
    "from keras.models import Sequential\n",
    "from keras.utils import to_categorical\n",
    "import matplotlib.pyplot as plt\n",
    "import tensorflow as tf"
   ]
  },
  {
   "cell_type": "code",
   "execution_count": 2,
   "metadata": {},
   "outputs": [],
   "source": [
    "x_train = load('train_smiley_frown_photos.npy')\n",
    "y_train = load('train_smiley_frown_labels.npy')\n",
    "x_test = load('test_smiley_frown_photos.npy')\n",
    "y_test = load('test_smiley_frown_labels.npy')"
   ]
  },
  {
   "cell_type": "code",
   "execution_count": 3,
   "metadata": {},
   "outputs": [
    {
     "name": "stdout",
     "output_type": "stream",
     "text": [
      "(630, 64, 64, 3)\n"
     ]
    }
   ],
   "source": [
    " print(x_train.shape)"
   ]
  },
  {
   "cell_type": "code",
   "execution_count": 4,
   "metadata": {},
   "outputs": [],
   "source": [
    "x_train = x_train[:,:,:,1]\n",
    "x_test = x_test[:,:,:,1]"
   ]
  },
  {
   "cell_type": "code",
   "execution_count": 5,
   "metadata": {},
   "outputs": [
    {
     "name": "stdout",
     "output_type": "stream",
     "text": [
      "(630, 64, 64) (10, 64, 64)\n"
     ]
    }
   ],
   "source": [
    "print(x_train.shape,x_test.shape)"
   ]
  },
  {
   "cell_type": "code",
   "execution_count": 6,
   "metadata": {},
   "outputs": [],
   "source": [
    "x_train = x_train.reshape(630,64,64,1)\n",
    "x_test = x_test.reshape(10,64,64,1)"
   ]
  },
  {
   "cell_type": "code",
   "execution_count": 7,
   "metadata": {},
   "outputs": [
    {
     "name": "stdout",
     "output_type": "stream",
     "text": [
      "(630, 64, 64, 1) (10, 64, 64, 1)\n"
     ]
    }
   ],
   "source": [
    "print(x_train.shape,x_test.shape)\n"
   ]
  },
  {
   "cell_type": "code",
   "execution_count": 8,
   "metadata": {},
   "outputs": [
    {
     "name": "stdout",
     "output_type": "stream",
     "text": [
      "(64, 64, 1)\n"
     ]
    },
    {
     "data": {
      "image/png": "[encoded data removed]",
      "text/plain": [
       "<Figure size 432x288 with 1 Axes>"
      ]
     },
     "metadata": {
      "needs_background": "light"
     },
     "output_type": "display_data"
    }
   ],
   "source": [
    "print(x_train[0].shape)\n",
    "pl = x_train[0].reshape(64,64)\n",
    "plt.imshow(pl, cmap=\"gray\")\n",
    "plt.show()"
   ]
  },
  {
   "cell_type": "code",
   "execution_count": 9,
   "metadata": {},
   "outputs": [
    {
     "name": "stdout",
     "output_type": "stream",
     "text": [
      "1.0\n"
     ]
    }
   ],
   "source": [
    "print(y_train[7])\n",
    "from keras.optimizers import Adam\n",
    "y_train = to_categorical(y_train)\n",
    "y_test = to_categorical(y_test)"
   ]
  },
  {
   "cell_type": "code",
   "execution_count": 10,
   "metadata": {},
   "outputs": [],
   "source": [
    "model = Sequential()"
   ]
  },
  {
   "cell_type": "code",
   "execution_count": 11,
   "metadata": {},
   "outputs": [],
   "source": [
    "model.add(Conv2D(32,(3,3), activation='relu', input_shape=(64, 64, 1)))\n",
    "model.add(Dense(64,activation='relu'))\n",
    "model.add(Dense(128,activation='relu'))\n",
    "model.add(Flatten())\n",
    "model.add(Dense(2, activation='softmax'))"
   ]
  },
  {
   "cell_type": "code",
   "execution_count": 26,
   "metadata": {},
   "outputs": [],
   "source": [
    "model.compile(Adam(lr=0.001), loss='categorical_crossentropy', metrics=['accuracy'])"
   ]
  },
  {
   "cell_type": "code",
   "execution_count": 27,
   "metadata": {},
   "outputs": [
    {
     "name": "stdout",
     "output_type": "stream",
     "text": [
      "Train on 630 samples, validate on 10 samples\n",
      "Epoch 1/5\n",
      "630/630 [==============================] - 4s 7ms/step - loss: 67.7682 - accuracy: 0.6175 - val_loss: 15.8480 - val_accuracy: 0.9000\n",
      "Epoch 2/5\n",
      "630/630 [==============================] - 4s 7ms/step - loss: 4.5416 - accuracy: 0.8905 - val_loss: 2.5645 - val_accuracy: 0.7000\n",
      "Epoch 3/5\n",
      "630/630 [==============================] - 4s 6ms/step - loss: 0.1609 - accuracy: 0.9825 - val_loss: 1.0841 - val_accuracy: 0.9000\n",
      "Epoch 4/5\n",
      "630/630 [==============================] - 4s 6ms/step - loss: 0.0225 - accuracy: 0.9968 - val_loss: 0.0218 - val_accuracy: 1.0000\n",
      "Epoch 5/5\n",
      "630/630 [==============================] - 4s 6ms/step - loss: 0.0097 - accuracy: 0.9968 - val_loss: 0.1786 - val_accuracy: 0.9000\n"
     ]
    },
    {
     "data": {
      "text/plain": [
       "<keras.callbacks.callbacks.History at 0x7f1a80329b80>"
      ]
     },
     "execution_count": 27,
     "metadata": {},
     "output_type": "execute_result"
    }
   ],
   "source": [
    "model.fit(x_train, y_train,validation_data=(x_test, y_test), epochs=5)"
   ]
  },
  {
   "cell_type": "code",
   "execution_count": 28,
   "metadata": {},
   "outputs": [],
   "source": [
    "import cv2"
   ]
  },
  {
   "cell_type": "code",
   "execution_count": 41,
   "metadata": {},
   "outputs": [
    {
     "name": "stdout",
     "output_type": "stream",
     "text": [
      "(64, 64, 3)\n",
      "(64, 64)\n"
     ]
    }
   ],
   "source": [
    "img = cv2.imread('Dataset/test/smiley/f2.png')\n",
    "print(img.shape)\n",
    "grey = cv2.cvtColor(img.copy(), cv2.COLOR_BGR2GRAY)\n",
    "print(grey.shape)"
   ]
  },
  {
   "cell_type": "code",
   "execution_count": 42,
   "metadata": {},
   "outputs": [],
   "source": [
    "predictions=model.predict(grey.reshape(1,64,64,1))"
   ]
  },
  {
   "cell_type": "code",
   "execution_count": 43,
   "metadata": {},
   "outputs": [
    {
     "name": "stdout",
     "output_type": "stream",
     "text": [
      "0\n"
     ]
    }
   ],
   "source": [
    "print(predictions.argmax())"
   ]
  },
  {
   "cell_type": "code",
   "execution_count": 44,
   "metadata": {},
   "outputs": [],
   "source": [
    "model.save('Smiley_Recognition.h5')"
   ]
  },
  {
   "cell_type": "code",
   "execution_count": 45,
   "metadata": {},
   "outputs": [],
   "source": []
  },
  {
   "cell_type": "code",
   "execution_count": null,
   "metadata": {},
   "outputs": [],
   "source": []
  }
 ],
 "metadata": {
  "kernelspec": {
   "display_name": "Python 3",
   "language": "python",
   "name": "python3"
  },
  "language_info": {
   "codemirror_mode": {
    "name": "ipython",
    "version": 3
   },
   "file_extension": ".py",
   "mimetype": "text/x-python",
   "name": "python",
   "nbconvert_exporter": "python",
   "pygments_lexer": "ipython3",
   "version": "3.8.2"
  }
 },
 "nbformat": 4,
 "nbformat_minor": 4
}
